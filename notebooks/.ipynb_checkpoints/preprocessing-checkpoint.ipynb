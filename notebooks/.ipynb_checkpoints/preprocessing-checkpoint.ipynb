{
 "cells": [
  {
   "cell_type": "markdown",
   "metadata": {},
   "source": [
    "# Preprocessing"
   ]
  },
  {
   "cell_type": "code",
   "execution_count": 1,
   "metadata": {},
   "outputs": [],
   "source": [
    "import pandas as pd\n",
    "from sklearn.preprocessing import LabelEncoder\n",
    "from sklearn.preprocessing import OrdinalEncoder\n",
    "from library.sb_utils import save_file"
   ]
  },
  {
   "cell_type": "markdown",
   "metadata": {},
   "source": [
    "As always, I'll start by loading the data."
   ]
  },
  {
   "cell_type": "code",
   "execution_count": 2,
   "metadata": {},
   "outputs": [],
   "source": [
    "data = pd.read_csv(\"../data/clean_data.csv\")"
   ]
  },
  {
   "cell_type": "code",
   "execution_count": 3,
   "metadata": {},
   "outputs": [
    {
     "data": {
      "text/html": [
       "<div>\n",
       "<style scoped>\n",
       "    .dataframe tbody tr th:only-of-type {\n",
       "        vertical-align: middle;\n",
       "    }\n",
       "\n",
       "    .dataframe tbody tr th {\n",
       "        vertical-align: top;\n",
       "    }\n",
       "\n",
       "    .dataframe thead th {\n",
       "        text-align: right;\n",
       "    }\n",
       "</style>\n",
       "<table border=\"1\" class=\"dataframe\">\n",
       "  <thead>\n",
       "    <tr style=\"text-align: right;\">\n",
       "      <th></th>\n",
       "      <th>salary_range</th>\n",
       "      <th>telecommuting</th>\n",
       "      <th>has_company_logo</th>\n",
       "      <th>has_questions</th>\n",
       "      <th>employment_type</th>\n",
       "      <th>required_experience</th>\n",
       "      <th>required_education</th>\n",
       "      <th>function</th>\n",
       "      <th>fraudulent</th>\n",
       "      <th>text</th>\n",
       "    </tr>\n",
       "  </thead>\n",
       "  <tbody>\n",
       "    <tr>\n",
       "      <th>0</th>\n",
       "      <td>0</td>\n",
       "      <td>0</td>\n",
       "      <td>1</td>\n",
       "      <td>0</td>\n",
       "      <td>Other</td>\n",
       "      <td>Internship</td>\n",
       "      <td>Unspecified</td>\n",
       "      <td>Marketing</td>\n",
       "      <td>0</td>\n",
       "      <td>marketing intern us ny new york we re food52 w...</td>\n",
       "    </tr>\n",
       "    <tr>\n",
       "      <th>1</th>\n",
       "      <td>0</td>\n",
       "      <td>0</td>\n",
       "      <td>1</td>\n",
       "      <td>0</td>\n",
       "      <td>Full-time</td>\n",
       "      <td>Not Applicable</td>\n",
       "      <td>Unspecified</td>\n",
       "      <td>Customer Service</td>\n",
       "      <td>0</td>\n",
       "      <td>customer service cloud video production nz auc...</td>\n",
       "    </tr>\n",
       "    <tr>\n",
       "      <th>2</th>\n",
       "      <td>0</td>\n",
       "      <td>0</td>\n",
       "      <td>1</td>\n",
       "      <td>0</td>\n",
       "      <td>Other</td>\n",
       "      <td>Not Applicable</td>\n",
       "      <td>Unspecified</td>\n",
       "      <td>Other</td>\n",
       "      <td>0</td>\n",
       "      <td>commissioning machinery assistant cma us ia we...</td>\n",
       "    </tr>\n",
       "  </tbody>\n",
       "</table>\n",
       "</div>"
      ],
      "text/plain": [
       "   salary_range  telecommuting  has_company_logo  has_questions  \\\n",
       "0             0              0                 1              0   \n",
       "1             0              0                 1              0   \n",
       "2             0              0                 1              0   \n",
       "\n",
       "  employment_type required_experience required_education          function  \\\n",
       "0           Other          Internship        Unspecified         Marketing   \n",
       "1       Full-time      Not Applicable        Unspecified  Customer Service   \n",
       "2           Other      Not Applicable        Unspecified             Other   \n",
       "\n",
       "   fraudulent                                               text  \n",
       "0           0  marketing intern us ny new york we re food52 w...  \n",
       "1           0  customer service cloud video production nz auc...  \n",
       "2           0  commissioning machinery assistant cma us ia we...  "
      ]
     },
     "execution_count": 3,
     "metadata": {},
     "output_type": "execute_result"
    }
   ],
   "source": [
    "data.head(3)"
   ]
  },
  {
   "cell_type": "markdown",
   "metadata": {},
   "source": [
    "## Encoding"
   ]
  },
  {
   "cell_type": "markdown",
   "metadata": {},
   "source": [
    "There are several categorical features here that need to be encoded. I'll start by refreshing myself on the values each feature contains."
   ]
  },
  {
   "cell_type": "code",
   "execution_count": 4,
   "metadata": {},
   "outputs": [
    {
     "name": "stdout",
     "output_type": "stream",
     "text": [
      "employment_type: {'Contract', 'Full-time', 'Part-time', 'Temporary', 'Other'} \n",
      "\n",
      "required_experience: {'Executive', 'Associate', 'Not Applicable', 'Entry level', 'Mid-Senior level', 'Internship', 'Director'} \n",
      "\n",
      "required_education: {'Certification', 'Doctorate', 'Professional', 'Vocational', 'Vocational - HS Diploma', 'Some High School Coursework', 'Vocational - Degree', \"Master's Degree\", 'Some College Coursework Completed', 'High School or equivalent', 'Unspecified', 'Associate Degree', \"Bachelor's Degree\"} \n",
      "\n",
      "function: {'Management', 'Financial Analyst', 'Consulting', 'Accounting/Auditing', 'Manufacturing', 'Science', 'Product Management', 'Quality Assurance', 'Advertising', 'Administrative', 'Public Relations', 'Art/Creative', 'Design', 'Supply Chain', 'Other', 'Education', 'Project Management', 'Writing/Editing', 'Engineering', 'Data Analyst', 'Training', 'Health Care Provider', 'Purchasing', 'Production', 'Strategy/Planning', 'Information Technology', 'Marketing', 'Distribution', 'Business Development', 'Legal', 'Finance', 'Customer Service', 'Business Analyst', 'Research', 'Human Resources', 'Sales', 'General Business'} \n",
      "\n"
     ]
    }
   ],
   "source": [
    "for col in data[['employment_type', 'required_experience', 'required_education', 'function']].columns:\n",
    "    print(col + \":\", set(data[col]), \"\\n\")"
   ]
  },
  {
   "cell_type": "markdown",
   "metadata": {},
   "source": [
    "### Label Encoding"
   ]
  },
  {
   "cell_type": "markdown",
   "metadata": {},
   "source": [
    "From the dataset, there are two columns that would require a label encoder: `employment_type` and `function`."
   ]
  },
  {
   "cell_type": "code",
   "execution_count": 5,
   "metadata": {},
   "outputs": [],
   "source": [
    "le = LabelEncoder()"
   ]
  },
  {
   "cell_type": "code",
   "execution_count": 6,
   "metadata": {},
   "outputs": [],
   "source": [
    "le.fit(data['employment_type'])\n",
    "data['employment_type'] = le.transform(data['employment_type'])"
   ]
  },
  {
   "cell_type": "code",
   "execution_count": 7,
   "metadata": {},
   "outputs": [],
   "source": [
    "le.fit(data['function'])\n",
    "data['function'] = le.transform(data['function'])"
   ]
  },
  {
   "cell_type": "markdown",
   "metadata": {},
   "source": [
    "### Ordinal Encoder"
   ]
  },
  {
   "cell_type": "code",
   "execution_count": 8,
   "metadata": {
    "scrolled": true
   },
   "outputs": [
    {
     "data": {
      "text/plain": [
       "{'Associate',\n",
       " 'Director',\n",
       " 'Entry level',\n",
       " 'Executive',\n",
       " 'Internship',\n",
       " 'Mid-Senior level',\n",
       " 'Not Applicable'}"
      ]
     },
     "execution_count": 8,
     "metadata": {},
     "output_type": "execute_result"
    }
   ],
   "source": [
    "set(data['required_experience'])"
   ]
  },
  {
   "cell_type": "code",
   "execution_count": 9,
   "metadata": {},
   "outputs": [],
   "source": []
  },
  {
   "cell_type": "code",
   "execution_count": 10,
   "metadata": {},
   "outputs": [],
   "source": [
    "oe = OrdinalEncoder(categories=[categories])\n",
    "oe.fit(data[['required_experience']])\n",
    "data['required_experience'] = oe.transform(data[['required_experience']])"
   ]
  },
  {
   "cell_type": "code",
   "execution_count": null,
   "metadata": {},
   "outputs": [],
   "source": [
    "set(data[required_education])"
   ]
  }
 ],
 "metadata": {
  "kernelspec": {
   "display_name": "Python 3",
   "language": "python",
   "name": "python3"
  },
  "language_info": {
   "codemirror_mode": {
    "name": "ipython",
    "version": 3
   },
   "file_extension": ".py",
   "mimetype": "text/x-python",
   "name": "python",
   "nbconvert_exporter": "python",
   "pygments_lexer": "ipython3",
   "version": "3.8.3"
  }
 },
 "nbformat": 4,
 "nbformat_minor": 4
}
