{
 "cells": [
  {
   "cell_type": "markdown",
   "metadata": {},
   "source": [
    "# Preprocessing"
   ]
  },
  {
   "cell_type": "code",
   "execution_count": 1,
   "metadata": {},
   "outputs": [],
   "source": [
    "import pandas as pd\n",
    "from sklearn.preprocessing import LabelEncoder\n",
    "from sklearn.preprocessing import OrdinalEncoder\n",
    "from sklearn.feature_extraction.text import TfidfVectorizer\n",
    "from sklearn.model_selection import train_test_split\n",
    "from library.sb_utils import save_file"
   ]
  },
  {
   "cell_type": "markdown",
   "metadata": {},
   "source": [
    "As always, I'll start by loading the data."
   ]
  },
  {
   "cell_type": "code",
   "execution_count": 2,
   "metadata": {},
   "outputs": [],
   "source": [
    "data = pd.read_csv(\"../data/clean_data.csv\")"
   ]
  },
  {
   "cell_type": "code",
   "execution_count": 3,
   "metadata": {},
   "outputs": [
    {
     "data": {
      "text/html": [
       "<div>\n",
       "<style scoped>\n",
       "    .dataframe tbody tr th:only-of-type {\n",
       "        vertical-align: middle;\n",
       "    }\n",
       "\n",
       "    .dataframe tbody tr th {\n",
       "        vertical-align: top;\n",
       "    }\n",
       "\n",
       "    .dataframe thead th {\n",
       "        text-align: right;\n",
       "    }\n",
       "</style>\n",
       "<table border=\"1\" class=\"dataframe\">\n",
       "  <thead>\n",
       "    <tr style=\"text-align: right;\">\n",
       "      <th></th>\n",
       "      <th>salary_range</th>\n",
       "      <th>telecommuting</th>\n",
       "      <th>has_company_logo</th>\n",
       "      <th>has_questions</th>\n",
       "      <th>employment_type</th>\n",
       "      <th>required_experience</th>\n",
       "      <th>required_education</th>\n",
       "      <th>function</th>\n",
       "      <th>fraudulent</th>\n",
       "      <th>text</th>\n",
       "    </tr>\n",
       "  </thead>\n",
       "  <tbody>\n",
       "    <tr>\n",
       "      <th>0</th>\n",
       "      <td>0</td>\n",
       "      <td>0</td>\n",
       "      <td>1</td>\n",
       "      <td>0</td>\n",
       "      <td>Other</td>\n",
       "      <td>Internship</td>\n",
       "      <td>Unspecified</td>\n",
       "      <td>Marketing</td>\n",
       "      <td>0</td>\n",
       "      <td>marketing intern us ny new york we re food52 w...</td>\n",
       "    </tr>\n",
       "    <tr>\n",
       "      <th>1</th>\n",
       "      <td>0</td>\n",
       "      <td>0</td>\n",
       "      <td>1</td>\n",
       "      <td>0</td>\n",
       "      <td>Full-time</td>\n",
       "      <td>Not Applicable</td>\n",
       "      <td>Unspecified</td>\n",
       "      <td>Customer Service</td>\n",
       "      <td>0</td>\n",
       "      <td>customer service cloud video production nz auc...</td>\n",
       "    </tr>\n",
       "    <tr>\n",
       "      <th>2</th>\n",
       "      <td>0</td>\n",
       "      <td>0</td>\n",
       "      <td>1</td>\n",
       "      <td>0</td>\n",
       "      <td>Other</td>\n",
       "      <td>Not Applicable</td>\n",
       "      <td>Unspecified</td>\n",
       "      <td>Other</td>\n",
       "      <td>0</td>\n",
       "      <td>commissioning machinery assistant cma us ia we...</td>\n",
       "    </tr>\n",
       "  </tbody>\n",
       "</table>\n",
       "</div>"
      ],
      "text/plain": [
       "   salary_range  telecommuting  has_company_logo  has_questions  \\\n",
       "0             0              0                 1              0   \n",
       "1             0              0                 1              0   \n",
       "2             0              0                 1              0   \n",
       "\n",
       "  employment_type required_experience required_education          function  \\\n",
       "0           Other          Internship        Unspecified         Marketing   \n",
       "1       Full-time      Not Applicable        Unspecified  Customer Service   \n",
       "2           Other      Not Applicable        Unspecified             Other   \n",
       "\n",
       "   fraudulent                                               text  \n",
       "0           0  marketing intern us ny new york we re food52 w...  \n",
       "1           0  customer service cloud video production nz auc...  \n",
       "2           0  commissioning machinery assistant cma us ia we...  "
      ]
     },
     "execution_count": 3,
     "metadata": {},
     "output_type": "execute_result"
    }
   ],
   "source": [
    "data.head(3)"
   ]
  },
  {
   "cell_type": "markdown",
   "metadata": {},
   "source": [
    "## Encoding"
   ]
  },
  {
   "cell_type": "markdown",
   "metadata": {},
   "source": [
    "There are several categorical features here that need to be encoded. I'll start by refreshing myself on the values each feature contains."
   ]
  },
  {
   "cell_type": "code",
   "execution_count": 4,
   "metadata": {},
   "outputs": [
    {
     "name": "stdout",
     "output_type": "stream",
     "text": [
      "employment_type: {'Part-time', 'Temporary', 'Full-time', 'Other', 'Contract'} \n",
      "\n",
      "required_experience: {'Executive', 'Internship', 'Director', 'Not Applicable', 'Mid-Senior level', 'Associate', 'Entry level'} \n",
      "\n",
      "required_education: {'Vocational - HS Diploma', 'Certification', 'Doctorate', 'Unspecified', 'Associate Degree', \"Master's Degree\", 'Vocational', 'Some High School Coursework', \"Bachelor's Degree\", 'Some College Coursework Completed', 'High School or equivalent', 'Vocational - Degree', 'Professional'} \n",
      "\n",
      "function: {'Data Analyst', 'Art/Creative', 'Administrative', 'Distribution', 'Engineering', 'Quality Assurance', 'Financial Analyst', 'General Business', 'Science', 'Production', 'Marketing', 'Writing/Editing', 'Product Management', 'Purchasing', 'Training', 'Supply Chain', 'Finance', 'Health Care Provider', 'Education', 'Human Resources', 'Accounting/Auditing', 'Management', 'Research', 'Project Management', 'Strategy/Planning', 'Advertising', 'Public Relations', 'Manufacturing', 'Business Analyst', 'Sales', 'Information Technology', 'Business Development', 'Legal', 'Consulting', 'Other', 'Design', 'Customer Service'} \n",
      "\n"
     ]
    }
   ],
   "source": [
    "for col in data[['employment_type', 'required_experience', 'required_education', 'function']].columns:\n",
    "    print(col + \":\", set(data[col]), \"\\n\")"
   ]
  },
  {
   "cell_type": "markdown",
   "metadata": {},
   "source": [
    "### Label Encoding"
   ]
  },
  {
   "cell_type": "markdown",
   "metadata": {},
   "source": [
    "From the dataset, there are two columns that would require a label encoder: `employment_type` and `function`."
   ]
  },
  {
   "cell_type": "code",
   "execution_count": 5,
   "metadata": {},
   "outputs": [],
   "source": [
    "le = LabelEncoder()"
   ]
  },
  {
   "cell_type": "code",
   "execution_count": 6,
   "metadata": {},
   "outputs": [],
   "source": [
    "le.fit(data['employment_type'])\n",
    "data['employment_type'] = le.transform(data['employment_type'])"
   ]
  },
  {
   "cell_type": "code",
   "execution_count": 7,
   "metadata": {},
   "outputs": [],
   "source": [
    "le.fit(data['function'])\n",
    "data['function'] = le.transform(data['function'])"
   ]
  },
  {
   "cell_type": "markdown",
   "metadata": {},
   "source": [
    "### Ordinal Encoder"
   ]
  },
  {
   "cell_type": "code",
   "execution_count": 8,
   "metadata": {
    "scrolled": true
   },
   "outputs": [
    {
     "data": {
      "text/plain": [
       "{'Associate',\n",
       " 'Director',\n",
       " 'Entry level',\n",
       " 'Executive',\n",
       " 'Internship',\n",
       " 'Mid-Senior level',\n",
       " 'Not Applicable'}"
      ]
     },
     "execution_count": 8,
     "metadata": {},
     "output_type": "execute_result"
    }
   ],
   "source": [
    "set(data['required_experience'])"
   ]
  },
  {
   "cell_type": "code",
   "execution_count": 9,
   "metadata": {},
   "outputs": [],
   "source": [
    "emply_types = ['Not Applicable', 'Internship', 'Associate', \n",
    "              'Entry level', 'Associate', 'Mid-Senior level', 'Director', 'Executive']\n",
    "oe = OrdinalEncoder(categories=[emply_types])\n",
    "oe.fit(data[['required_experience']])\n",
    "data['required_experience'] = oe.transform(data[['required_experience']])"
   ]
  },
  {
   "cell_type": "code",
   "execution_count": 10,
   "metadata": {},
   "outputs": [
    {
     "data": {
      "text/plain": [
       "{'Associate Degree',\n",
       " \"Bachelor's Degree\",\n",
       " 'Certification',\n",
       " 'Doctorate',\n",
       " 'High School or equivalent',\n",
       " \"Master's Degree\",\n",
       " 'Professional',\n",
       " 'Some College Coursework Completed',\n",
       " 'Some High School Coursework',\n",
       " 'Unspecified',\n",
       " 'Vocational',\n",
       " 'Vocational - Degree',\n",
       " 'Vocational - HS Diploma'}"
      ]
     },
     "execution_count": 10,
     "metadata": {},
     "output_type": "execute_result"
    }
   ],
   "source": [
    "set(data['required_education'])"
   ]
  },
  {
   "cell_type": "code",
   "execution_count": 11,
   "metadata": {},
   "outputs": [],
   "source": [
    "edu_types = ['Unspecified', 'Some High School Coursework', 'High School or equivalent',\n",
    "            'Vocational - HS Diploma', 'Some College Coursework Completed', 'Associate Degree',\n",
    "            'Vocational', 'Professional', 'Certification', 'Vocational - Degree',\n",
    "            'Bachelor\\'s Degree', 'Master\\'s Degree', 'Doctorate']\n",
    "oe = OrdinalEncoder(categories=[edu_types])\n",
    "oe.fit(data[['required_education']])\n",
    "data['required_education'] = oe.transform(data[['required_education']])"
   ]
  },
  {
   "cell_type": "code",
   "execution_count": 12,
   "metadata": {},
   "outputs": [
    {
     "data": {
      "text/html": [
       "<div>\n",
       "<style scoped>\n",
       "    .dataframe tbody tr th:only-of-type {\n",
       "        vertical-align: middle;\n",
       "    }\n",
       "\n",
       "    .dataframe tbody tr th {\n",
       "        vertical-align: top;\n",
       "    }\n",
       "\n",
       "    .dataframe thead th {\n",
       "        text-align: right;\n",
       "    }\n",
       "</style>\n",
       "<table border=\"1\" class=\"dataframe\">\n",
       "  <thead>\n",
       "    <tr style=\"text-align: right;\">\n",
       "      <th></th>\n",
       "      <th>salary_range</th>\n",
       "      <th>telecommuting</th>\n",
       "      <th>has_company_logo</th>\n",
       "      <th>has_questions</th>\n",
       "      <th>employment_type</th>\n",
       "      <th>required_experience</th>\n",
       "      <th>required_education</th>\n",
       "      <th>function</th>\n",
       "      <th>fraudulent</th>\n",
       "      <th>text</th>\n",
       "    </tr>\n",
       "  </thead>\n",
       "  <tbody>\n",
       "    <tr>\n",
       "      <th>0</th>\n",
       "      <td>0</td>\n",
       "      <td>0</td>\n",
       "      <td>1</td>\n",
       "      <td>0</td>\n",
       "      <td>2</td>\n",
       "      <td>1.0</td>\n",
       "      <td>0.0</td>\n",
       "      <td>22</td>\n",
       "      <td>0</td>\n",
       "      <td>marketing intern us ny new york we re food52 w...</td>\n",
       "    </tr>\n",
       "    <tr>\n",
       "      <th>1</th>\n",
       "      <td>0</td>\n",
       "      <td>0</td>\n",
       "      <td>1</td>\n",
       "      <td>0</td>\n",
       "      <td>1</td>\n",
       "      <td>0.0</td>\n",
       "      <td>0.0</td>\n",
       "      <td>7</td>\n",
       "      <td>0</td>\n",
       "      <td>customer service cloud video production nz auc...</td>\n",
       "    </tr>\n",
       "    <tr>\n",
       "      <th>2</th>\n",
       "      <td>0</td>\n",
       "      <td>0</td>\n",
       "      <td>1</td>\n",
       "      <td>0</td>\n",
       "      <td>2</td>\n",
       "      <td>0.0</td>\n",
       "      <td>0.0</td>\n",
       "      <td>23</td>\n",
       "      <td>0</td>\n",
       "      <td>commissioning machinery assistant cma us ia we...</td>\n",
       "    </tr>\n",
       "  </tbody>\n",
       "</table>\n",
       "</div>"
      ],
      "text/plain": [
       "   salary_range  telecommuting  has_company_logo  has_questions  \\\n",
       "0             0              0                 1              0   \n",
       "1             0              0                 1              0   \n",
       "2             0              0                 1              0   \n",
       "\n",
       "   employment_type  required_experience  required_education  function  \\\n",
       "0                2                  1.0                 0.0        22   \n",
       "1                1                  0.0                 0.0         7   \n",
       "2                2                  0.0                 0.0        23   \n",
       "\n",
       "   fraudulent                                               text  \n",
       "0           0  marketing intern us ny new york we re food52 w...  \n",
       "1           0  customer service cloud video production nz auc...  \n",
       "2           0  commissioning machinery assistant cma us ia we...  "
      ]
     },
     "execution_count": 12,
     "metadata": {},
     "output_type": "execute_result"
    }
   ],
   "source": [
    "data.head(3)"
   ]
  },
  {
   "cell_type": "markdown",
   "metadata": {},
   "source": [
    "## Text Processing"
   ]
  },
  {
   "cell_type": "markdown",
   "metadata": {},
   "source": [
    "Now all there is left to is deal with all the text data. I have already consolidated the text data to one column, converted everything to lowercase and removed all the stop words."
   ]
  },
  {
   "cell_type": "code",
   "execution_count": 13,
   "metadata": {},
   "outputs": [],
   "source": [
    "vectorizer = TfidfVectorizer()"
   ]
  },
  {
   "cell_type": "code",
   "execution_count": 14,
   "metadata": {},
   "outputs": [
    {
     "data": {
      "text/plain": [
       "TfidfVectorizer()"
      ]
     },
     "execution_count": 14,
     "metadata": {},
     "output_type": "execute_result"
    }
   ],
   "source": [
    "vectorizer.fit(data['text'])"
   ]
  },
  {
   "cell_type": "code",
   "execution_count": 15,
   "metadata": {},
   "outputs": [],
   "source": [
    "vector = vectorizer.transform(data['text'])"
   ]
  },
  {
   "cell_type": "code",
   "execution_count": null,
   "metadata": {},
   "outputs": [],
   "source": [
    "features = vectorizer.get_feature_names()\n",
    "dense = vector.todense().tolist()\n",
    "df = pd.DataFrame(dense, columns=features)"
   ]
  },
  {
   "cell_type": "code",
   "execution_count": null,
   "metadata": {},
   "outputs": [],
   "source": [
    "df"
   ]
  }
 ],
 "metadata": {
  "kernelspec": {
   "display_name": "Python 3",
   "language": "python",
   "name": "python3"
  },
  "language_info": {
   "codemirror_mode": {
    "name": "ipython",
    "version": 3
   },
   "file_extension": ".py",
   "mimetype": "text/x-python",
   "name": "python",
   "nbconvert_exporter": "python",
   "pygments_lexer": "ipython3",
   "version": "3.8.3"
  }
 },
 "nbformat": 4,
 "nbformat_minor": 4
}
